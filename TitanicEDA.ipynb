{
  "nbformat": 4,
  "nbformat_minor": 0,
  "metadata": {
    "colab": {
      "provenance": [],
      "collapsed_sections": [],
      "mount_file_id": "1CUHvLlQYpV3UPLFmbqi6FDiN7WETxGY4",
      "authorship_tag": "ABX9TyOn0ZiMXxxP/KkGrXxcZy4G"
    },
    "kernelspec": {
      "name": "python3",
      "display_name": "Python 3"
    },
    "language_info": {
      "name": "python"
    }
  },
  "cells": [
    {
      "cell_type": "code",
      "metadata": {
        "id": "2tpZ74TxyHwz"
      },
      "source": [
        "import pandas as pd\n",
        "import numpy as np\n",
        "import seaborn as sns\n",
        "import matplotlib.pyplot as plt"
      ],
      "execution_count": null,
      "outputs": []
    },
    {
      "cell_type": "code",
      "metadata": {
        "id": "0ROFsgV-yInA"
      },
      "source": [
        "titanic_data=pd.read_csv('/content/drive/MyDrive/Colab Notebooks/Dataset/titanic_train.csv')\n"
      ],
      "execution_count": null,
      "outputs": []
    },
    {
      "cell_type": "code",
      "metadata": {
        "colab": {
          "base_uri": "https://localhost:8080/"
        },
        "id": "qdMnh8wdys3I",
        "outputId": "494851cd-f431-4e6f-e1b1-659d00e4d042"
      },
      "source": [
        "len(titanic_data)\n",
        "titanic_data.head()\n",
        "titanic_data.index\n",
        "titanic_data.columns\n",
        "titanic_data.info()\n",
        "titanic_data.dtypes\n",
        "titanic_data.describe()\n",
        "sns.countplot(x='Survived',data=titanic_data)\n",
        "sns.countplot(x='Survived',data=titanic_data,hue='Sex')\n",
        "titanic_data.isna().sum()\n",
        "\n",
        "#find the % of null values in age column\n",
        "(titanic_data['Age'].isna().sum()/len(titanic_data['Age']))*100\n",
        "\n",
        "#find the % of null values in cabin column\n",
        "(titanic_data['Cabin'].isna().sum()/len(titanic_data['Cabin']))*100\n",
        "\n",
        "#find the distribution for the age column\n",
        "sns.displot(x='Age',data=titanic_data)\n",
        "\n",
        "#fill age column\n",
        "titanic_data['Age'].fillna(titanic_data['Age'].mean(),inplace=True)\n",
        "\n",
        "#Drop cabin column\n",
        "titanic_data.drop('Cabin',axis=1,inplace=True)\n",
        "\n",
        "#divide data\n",
        "x=titanic_data[['PassengerId','Pclass','Age','SibSp','Parch','Fare','Gender']]\n",
        "y=titanic_data['Survived']"
      ],
      "execution_count": null,
      "outputs": [
        {
          "output_type": "execute_result",
          "data": {
            "text/plain": [
              "891"
            ]
          },
          "metadata": {},
          "execution_count": 3
        }
      ]
    },
    {
      "cell_type": "code",
      "metadata": {
        "id": "X483IaKFyu6e"
      },
      "source": [
        "X=titanic_data.drop('Survived',axis=1)\n",
        "y=titanic_data['Survived']"
      ],
      "execution_count": null,
      "outputs": []
    },
    {
      "cell_type": "code",
      "metadata": {
        "colab": {
          "base_uri": "https://localhost:8080/"
        },
        "id": "r6iGlOY3y6VD",
        "outputId": "c31cc593-0001-4cba-fb2a-5207b1b74d50"
      },
      "source": [
        "y.head()"
      ],
      "execution_count": null,
      "outputs": [
        {
          "output_type": "execute_result",
          "data": {
            "text/plain": [
              "0    0\n",
              "1    1\n",
              "2    1\n",
              "3    1\n",
              "4    0\n",
              "Name: Survived, dtype: int64"
            ]
          },
          "metadata": {},
          "execution_count": 12
        }
      ]
    },
    {
      "cell_type": "code",
      "metadata": {
        "colab": {
          "base_uri": "https://localhost:8080/"
        },
        "id": "DNIpHndIy8Bi",
        "outputId": "dba5ed89-4f48-4cbc-d9a7-1c614f62d780"
      },
      "source": [],
      "execution_count": null,
      "outputs": [
        {
          "output_type": "execute_result",
          "data": {
            "text/plain": [
              "Index(['PassengerId', 'Survived', 'Pclass', 'Name', 'Sex', 'Age', 'SibSp',\n",
              "       'Parch', 'Ticket', 'Fare', 'Cabin', 'Embarked'],\n",
              "      dtype='object')"
            ]
          },
          "metadata": {},
          "execution_count": 6
        }
      ]
    },
    {
      "cell_type": "code",
      "metadata": {
        "id": "t9QAr1EDy-GV"
      },
      "source": [],
      "execution_count": null,
      "outputs": []
    }
  ]
}